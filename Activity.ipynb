{
 "cells": [
  {
   "cell_type": "markdown",
   "id": "dd210905",
   "metadata": {},
   "source": [
    "\r\n",
    "\r\n",
    "# Goals \r\n",
    "\r\n",
    "#### 1. add (start tracking change) our notebook to our git repository locally. (done)\r\n",
    "\r\n",
    "#### 2. commit it to our repo. (done) \r\n",
    "\r\n",
    "#### 3. Create a file to delete (done)\r\n",
    "\r\n",
    "#### 4. Delete file\r\n"
   ]
  },
  {
   "cell_type": "code",
   "execution_count": 2,
   "id": "b60fb87d",
   "metadata": {},
   "outputs": [
    {
     "name": "stdout",
     "output_type": "stream",
     "text": [
      "python 123\n"
     ]
    }
   ],
   "source": [
    "print(\"python 123\")"
   ]
  },
  {
   "cell_type": "code",
   "execution_count": 3,
   "id": "41bb487e",
   "metadata": {},
   "outputs": [
    {
     "data": {
      "text/plain": [
       "True"
      ]
     },
     "execution_count": 3,
     "metadata": {},
     "output_type": "execute_result"
    }
   ],
   "source": []
  },
  {
   "cell_type": "code",
   "execution_count": null,
   "id": "c5fd21a2",
   "metadata": {},
   "outputs": [],
   "source": []
  },
  {
   "cell_type": "code",
   "execution_count": 4,
   "id": "a993df62",
   "metadata": {},
   "outputs": [],
   "source": [
    "()"
   ]
  }
 ],
 "metadata": {
  "interpreter": {
   "hash": "28d1352cfe9add584accb50c88a2a2eb3e89be4c40da9d20bff90967efbfd712"
  },
  "kernelspec": {
   "display_name": "Python 3",
   "language": "python",
   "name": "python3"
  },
  "language_info": {
   "codemirror_mode": {
    "name": "ipython",
    "version": 3
   },
   "file_extension": ".py",
   "mimetype": "text/x-python",
   "name": "python",
   "nbconvert_exporter": "python",
   "pygments_lexer": "ipython3",
   "version": "3.8.8"
  }
 },
 "nbformat": 4,
 "nbformat_minor": 5
}
