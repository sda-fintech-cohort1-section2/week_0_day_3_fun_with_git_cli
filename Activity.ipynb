{
 "cells": [
  {
   "cell_type": "markdown",
   "id": "ddc29218-6c16-4934-b477-673cfe4be4a8",
   "metadata": {},
   "source": [
    "\n",
    "\n",
    "# Goals \n",
    "\n",
    "#### 1. add (start tracking change) our notebook to our git repository locally. (done)\n",
    "\n",
    "#### 2. commit it to our repo. (done) \n",
    "\n",
    "#### 3. Create a file to delete (done)\n",
    "\n",
    "#### 4. Delete file\n"
   ]
  }
 ],
 "metadata": {
  "kernelspec": {
   "display_name": "Python 3",
   "language": "python",
   "name": "python3"
  },
  "language_info": {
   "codemirror_mode": {
    "name": "ipython",
    "version": 3
   },
   "file_extension": ".py",
   "mimetype": "text/x-python",
   "name": "python",
   "nbconvert_exporter": "python",
   "pygments_lexer": "ipython3",
   "version": "3.8.8"
  }
 },
 "nbformat": 4,
 "nbformat_minor": 5
}
