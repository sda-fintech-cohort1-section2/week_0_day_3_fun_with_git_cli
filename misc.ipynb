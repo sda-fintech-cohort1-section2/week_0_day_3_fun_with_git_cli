{
 "cells": [
  {
   "cell_type": "markdown",
   "id": "ddc29218-6c16-4934-b477-673cfe4be4a8",
   "metadata": {},
   "source": [
    "## to be deleted"
   ]
  }
 ],
 "metadata": {
  "kernelspec": {
   "display_name": "Python 3",
   "language": "python",
   "name": "python3"
  },
  "language_info": {
   "codemirror_mode": {
    "name": "ipython",
    "version": 3
   },
   "file_extension": ".py",
   "mimetype": "text/x-python",
   "name": "python",
   "nbconvert_exporter": "python",
   "pygments_lexer": "ipython3",
   "version": "3.8.8"
  }
 },
 "nbformat": 4,
 "nbformat_minor": 5
}
